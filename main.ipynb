{
 "cells": [
  {
   "cell_type": "code",
   "execution_count": 20,
   "id": "95eb7b05",
   "metadata": {},
   "outputs": [],
   "source": [
    "import requests\n",
    "import pandas as pd\n",
    "import json\n",
    "import pymongo\n",
    "from pprint import pprint\n",
    "from config import api_key"
   ]
  },
  {
   "cell_type": "markdown",
   "id": "cb13afc0",
   "metadata": {},
   "source": [
    "region_id_dict = {\n",
    "    'Chicago': 29470,\n",
    "    'Tampa': 18142,\n",
    "    'Atlanta': 30756,\n",
    "    'San Francisco': 17151,\n",
    "    'Austin': 30818\n",
    "}"
   ]
  },
  {
   "cell_type": "code",
   "execution_count": 10,
   "id": "df0021c0",
   "metadata": {},
   "outputs": [],
   "source": [
    "region_id = [\"29470\", \"18142\", \"30756\", \"17151\", \"30818\"]"
   ]
  },
  {
   "cell_type": "code",
   "execution_count": 12,
   "id": "7a4cd5a2",
   "metadata": {
    "scrolled": false
   },
   "outputs": [
    {
     "name": "stdout",
     "output_type": "stream",
     "text": [
      "29470\n",
      "18142\n",
      "30756\n",
      "17151\n",
      "30818\n"
     ]
    }
   ],
   "source": [
    "url = \"https://unofficial-redfin.p.rapidapi.com/properties/list\"\n",
    "\n",
    "headers = {\n",
    "    \"X-RapidAPI-Key\": api_key,\n",
    "    \"X-RapidAPI-Host\": \"unofficial-redfin.p.rapidapi.com\"\n",
    "}\n",
    "\n",
    "home_results = []\n",
    "\n",
    "for x in region_id:\n",
    "    print(x)\n",
    "    num_homes = 10\n",
    "    querystring = {\n",
    "        # city id\n",
    "        \"region_id\": x,\n",
    "        # region_type = city (6)\n",
    "        \"region_type\": \"6\",\n",
    "        # uipt = property types (1-Home,2-Condo,3-Townhome,4-Multi-Fam,5-land,6-other,7-manufactured,8-co-op)\n",
    "        \"uipt\":\"1,2,3,4,7,8\",\n",
    "        # status, 1-active listings, 8-coming soon, 9-active + coming soon\n",
    "        \"status\":\"9\",\n",
    "        # optional params\n",
    "        # sf = MLS listings (1,7-agent listings, 2-MLS foreclosed, 3-ForsaleByOwner, 4-Foreclose, 5,6-Newconstruction)\n",
    "        \"sf\":\"1,2,3,5,6,7\",\n",
    "        #\n",
    "        \"num_homes\": num_homes\n",
    "    }\n",
    "\n",
    "    response = requests.request(\"GET\", url, headers=headers, params=querystring)\n",
    "\n",
    "    homes = response.json()\n",
    "    \n",
    "    home_results.append(homes)"
   ]
  },
  {
   "cell_type": "code",
   "execution_count": 21,
   "id": "8042a542",
   "metadata": {},
   "outputs": [],
   "source": [
    "## MongoDB connection\n",
    "\n",
    "conn = 'mongodb://localhost:27017'\n",
    "client = pymongo.MongoClient(conn)\n",
    "db = client.homes_db"
   ]
  },
  {
   "cell_type": "code",
   "execution_count": 27,
   "id": "6c1dc6b9",
   "metadata": {},
   "outputs": [],
   "source": [
    "## add mongoDB entry for each city (each result contains num_homes homes)\n",
    "for city in home_results:\n",
    "    db.homes.insert_one(city)"
   ]
  },
  {
   "cell_type": "code",
   "execution_count": null,
   "id": "1fbc69c8",
   "metadata": {},
   "outputs": [],
   "source": []
  },
  {
   "cell_type": "code",
   "execution_count": null,
   "id": "9d0be24f",
   "metadata": {},
   "outputs": [],
   "source": []
  },
  {
   "cell_type": "code",
   "execution_count": null,
   "id": "ecfdda03",
   "metadata": {},
   "outputs": [],
   "source": []
  },
  {
   "cell_type": "code",
   "execution_count": 35,
   "id": "720545d2",
   "metadata": {},
   "outputs": [],
   "source": [
    "# ## Creating offline file for testing purposes\n",
    "# with open('homes.json', 'w') as f:\n",
    "#     json.dump(homes, f)"
   ]
  },
  {
   "cell_type": "code",
   "execution_count": 41,
   "id": "70be6d6d",
   "metadata": {},
   "outputs": [],
   "source": [
    "# ## Loading offline file\n",
    "# f = open('homes.json')\n",
    "# d = json.load(f)"
   ]
  },
  {
   "cell_type": "markdown",
   "id": "91830ce2",
   "metadata": {},
   "source": [
    "beds, bath, sqft, price, price per sqft, hoa fees?, "
   ]
  },
  {
   "cell_type": "code",
   "execution_count": 42,
   "id": "5ab33eb1",
   "metadata": {},
   "outputs": [],
   "source": [
    "data = d['homes'][0]['homeData']\n",
    "# data = homes['homes'][0]['homeData']"
   ]
  },
  {
   "cell_type": "code",
   "execution_count": 47,
   "id": "2072160c",
   "metadata": {},
   "outputs": [
    {
     "name": "stdout",
     "output_type": "stream",
     "text": [
      "{'addressInfo': {'centroid': {'centroid': {'latitude': 27.9835204,\n",
      "                                           'longitude': -82.4494006},\n",
      "                              'displayLevel': 'ACCESSIBLE'},\n",
      "                 'city': 'TAMPA',\n",
      "                 'countryCode': 'UNITED_STATES',\n",
      "                 'formattedStreetLine': '916 E North Bay St',\n",
      "                 'location': 'UNPLATTED',\n",
      "                 'locationDisplayLevel': 'ACCESSIBLE',\n",
      "                 'postalCodeDisplayLevel': 'ACCESSIBLE',\n",
      "                 'state': 'FL',\n",
      "                 'streetlineDisplayLevel': 'ACCESSIBLE',\n",
      "                 'unitNumberDisplayLevel': 'ACCESSIBLE',\n",
      "                 'zip': '33603'},\n",
      " 'bathInfo': {'computedFullBaths': 2,\n",
      "              'computedTotalBaths': 2.0,\n",
      "              'rawFullBaths': 2},\n",
      " 'baths': {'value': 2.0},\n",
      " 'beds': {'value': 3},\n",
      " 'brokers': {'listingBrokerAndAgent': {'agentName': 'Jonathan Benn',\n",
      "                                       'redfinAgentId': {'value': '17589'}}},\n",
      " 'businessMarketId': {'value': '86'},\n",
      " 'dataSourceId': {'value': '118'},\n",
      " 'daysOnMarket': {'daysOnMarket': {'value': '7'},\n",
      "                  'displayLevel': 'ACCESSIBLE',\n",
      "                  'listingAddedDate': {'nanos': 742000000,\n",
      "                                       'seconds': '1656010798'},\n",
      "                  'timeOnRedfin': {'nanos': 673000000, 'seconds': '582479'}},\n",
      " 'directAccessInfo': {'supportPhoneNumber': 'N/A',\n",
      "                      'timeZone': {'description': 'Pacific Time in the United '\n",
      "                                                  'States',\n",
      "                                   'id': 7,\n",
      "                                   'olsonTimeZoneIdString': 'America/Los_Angeles',\n",
      "                                   'timeZoneIdString': 'US/Pacific'}},\n",
      " 'fullBaths': {'value': 2},\n",
      " 'hoaDues': {'displayLevel': 'ACCESSIBLE'},\n",
      " 'insights': {},\n",
      " 'lastSaleData': {'lastSoldDate': {'seconds': '1513324800'}},\n",
      " 'listingDisplayLevel': 'ACCESSIBLE',\n",
      " 'listingId': {'value': '152600626'},\n",
      " 'listingMetadata': {'hasVirtualTour': True,\n",
      "                     'isRedfin': True,\n",
      "                     'listingType': 'MLS',\n",
      "                     'searchStatus': 'ACTIVE'},\n",
      " 'lotSize': {'amount': {'value': '6000'}, 'displayLevel': 'ACCESSIBLE'},\n",
      " 'marketId': {'value': '28'},\n",
      " 'mlsId': 'T3382571',\n",
      " 'mlsStatusId': {'value': '3517'},\n",
      " 'personalization': {},\n",
      " 'photosInfo': {'alternatePhotosInfo': [{'groupCode': '721187_JPG',\n",
      "                                         'mediaListType': '1',\n",
      "                                         'photoType': 'DEAL',\n",
      "                                         'positionSpec': [3,\n",
      "                                                          5,\n",
      "                                                          6,\n",
      "                                                          8,\n",
      "                                                          9,\n",
      "                                                          10,\n",
      "                                                          11,\n",
      "                                                          13,\n",
      "                                                          14,\n",
      "                                                          15,\n",
      "                                                          17,\n",
      "                                                          18,\n",
      "                                                          19,\n",
      "                                                          20,\n",
      "                                                          21,\n",
      "                                                          22,\n",
      "                                                          24,\n",
      "                                                          25,\n",
      "                                                          26,\n",
      "                                                          27,\n",
      "                                                          28,\n",
      "                                                          30,\n",
      "                                                          31,\n",
      "                                                          32,\n",
      "                                                          33,\n",
      "                                                          34,\n",
      "                                                          35,\n",
      "                                                          36,\n",
      "                                                          37,\n",
      "                                                          38,\n",
      "                                                          39,\n",
      "                                                          41,\n",
      "                                                          42,\n",
      "                                                          43,\n",
      "                                                          44]}],\n",
      "                'photoRanges': [{'endPos': 34, 'version': '0'}],\n",
      "                'posterFrameUrl': 'https://my.matterport.com/api/v2/player/models/16rr5pghp6z/thumb',\n",
      "                'primaryPhotoDisplayLevel': 'ACCESSIBLE',\n",
      "                'scanUrl': 'https://my.matterport.com/show/?m=16rr5pghp6z&mls=1',\n",
      "                'secondaryPhotoDisplayLevel': 'ACCESSIBLE'},\n",
      " 'priceInfo': {'amount': {'value': '523000'},\n",
      "               'displayLevel': 'ACCESSIBLE',\n",
      "               'homePrice': {'displayLevel': 'ACCESSIBLE',\n",
      "                             'int64Value': '523000'},\n",
      "               'priceType': 'LISTING_PRICE'},\n",
      " 'propertyId': '47328642',\n",
      " 'propertyType': 'SINGLE_FAMILY_RESIDENTIAL',\n",
      " 'sashes': [{'isRedfin': True,\n",
      "             'sashTypeColor': '#2E7E36',\n",
      "             'sashTypeId': 13,\n",
      "             'sashTypeName': 'For Sale'},\n",
      "            {'sashTypeColor': '#7556F2',\n",
      "             'sashTypeId': 31,\n",
      "             'sashTypeName': '3D Walkthrough'}],\n",
      " 'servicePolicyId': {'value': '14'},\n",
      " 'showMlsId': {},\n",
      " 'sqftInfo': {'amount': {'value': '1584'}, 'displayLevel': 'ACCESSIBLE'},\n",
      " 'timezone': 'US/Eastern',\n",
      " 'url': '/FL/Tampa/916-E-North-Bay-St-33603/home/47328642',\n",
      " 'yearBuilt': {'displayLevel': 'ACCESSIBLE', 'yearBuilt': {'value': 2017}}}\n"
     ]
    }
   ],
   "source": [
    "pprint(data)"
   ]
  },
  {
   "cell_type": "code",
   "execution_count": 26,
   "id": "85ef9199",
   "metadata": {
    "scrolled": true
   },
   "outputs": [
    {
     "name": "stdout",
     "output_type": "stream",
     "text": [
      "523000\n"
     ]
    }
   ],
   "source": [
    "home_price = data['priceInfo']['amount']['value']\n",
    "print(home_price)"
   ]
  },
  {
   "cell_type": "code",
   "execution_count": 27,
   "id": "78ca170f",
   "metadata": {},
   "outputs": [
    {
     "name": "stdout",
     "output_type": "stream",
     "text": [
      "7\n"
     ]
    }
   ],
   "source": [
    "list_time = data['daysOnMarket']['daysOnMarket']['value']\n",
    "print(list_time)"
   ]
  },
  {
   "cell_type": "code",
   "execution_count": 28,
   "id": "dec706e6",
   "metadata": {
    "scrolled": true
   },
   "outputs": [
    {
     "name": "stdout",
     "output_type": "stream",
     "text": [
      "3\n"
     ]
    }
   ],
   "source": [
    "bed = data['beds']['value']\n",
    "print(bed)"
   ]
  },
  {
   "cell_type": "code",
   "execution_count": 29,
   "id": "ea01c538",
   "metadata": {
    "scrolled": true
   },
   "outputs": [
    {
     "name": "stdout",
     "output_type": "stream",
     "text": [
      "2.0\n"
     ]
    }
   ],
   "source": [
    "bath = data['baths']['value']\n",
    "print(bath)"
   ]
  },
  {
   "cell_type": "code",
   "execution_count": 30,
   "id": "2d988f9c",
   "metadata": {},
   "outputs": [
    {
     "name": "stdout",
     "output_type": "stream",
     "text": [
      "1584\n"
     ]
    }
   ],
   "source": [
    "sqft = data['sqftInfo']['amount']['value']\n",
    "print(sqft)"
   ]
  },
  {
   "cell_type": "code",
   "execution_count": 31,
   "id": "d6e78b65",
   "metadata": {
    "scrolled": true
   },
   "outputs": [],
   "source": [
    "# per_sqft = home_price / sqft"
   ]
  },
  {
   "cell_type": "code",
   "execution_count": 32,
   "id": "480892b1",
   "metadata": {},
   "outputs": [
    {
     "name": "stdout",
     "output_type": "stream",
     "text": [
      "27.9835204\n",
      "-82.4494006\n"
     ]
    }
   ],
   "source": [
    "address_lat = data['addressInfo']['centroid']['centroid']['latitude']\n",
    "print(address_lat)\n",
    "\n",
    "address_lon = data['addressInfo']['centroid']['centroid']['longitude']\n",
    "print(address_lon)"
   ]
  },
  {
   "cell_type": "code",
   "execution_count": 33,
   "id": "40d71555",
   "metadata": {},
   "outputs": [
    {
     "name": "stdout",
     "output_type": "stream",
     "text": [
      "916 E North Bay St TAMPA, FL  33603\n"
     ]
    }
   ],
   "source": [
    "street_add = data['addressInfo']['formattedStreetLine']\n",
    "city = data['addressInfo']['city']\n",
    "state = data['addressInfo']['state']\n",
    "zip_code = data['addressInfo']['zip']\n",
    "\n",
    "address = f'{street_add} {city}, {state}  {zip_code}'\n",
    "print(address)"
   ]
  },
  {
   "cell_type": "code",
   "execution_count": 34,
   "id": "a54ebc53",
   "metadata": {
    "scrolled": true
   },
   "outputs": [
    {
     "name": "stdout",
     "output_type": "stream",
     "text": [
      "https://my.matterport.com/api/v2/player/models/16rr5pghp6z/thumb\n"
     ]
    }
   ],
   "source": [
    "photo = data['photosInfo']['posterFrameUrl']\n",
    "print(photo)"
   ]
  },
  {
   "cell_type": "code",
   "execution_count": 115,
   "id": "5b44e755",
   "metadata": {},
   "outputs": [],
   "source": [
    "# for x in range(num_homes):\n",
    "#     print(homes['homes'][x]['homeData']['priceInfo']['amount']['value'])\n",
    "    \n",
    "#     print(homes['homes'][x]['homeData']['daysOnMarket']['daysOnMarket']['value'])"
   ]
  },
  {
   "cell_type": "code",
   "execution_count": null,
   "id": "a6161e8b",
   "metadata": {},
   "outputs": [],
   "source": []
  }
 ],
 "metadata": {
  "kernelspec": {
   "display_name": "Python 3 (ipykernel)",
   "language": "python",
   "name": "python3"
  },
  "language_info": {
   "codemirror_mode": {
    "name": "ipython",
    "version": 3
   },
   "file_extension": ".py",
   "mimetype": "text/x-python",
   "name": "python",
   "nbconvert_exporter": "python",
   "pygments_lexer": "ipython3",
   "version": "3.9.7"
  }
 },
 "nbformat": 4,
 "nbformat_minor": 5
}
